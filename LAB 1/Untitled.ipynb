{
 "cells": [
  {
   "cell_type": "code",
   "execution_count": 1,
   "id": "f01fe91c-27f4-41f3-aacd-c640e7d31dcf",
   "metadata": {},
   "outputs": [
    {
     "name": "stdin",
     "output_type": "stream",
     "text": [
      "Enter Location of Vacuum (A or B):  A\n",
      "Enter status of A (0 for Clean, 1 for Dirty):  1\n",
      "Enter status of other room (0 for Clean, 1 for Dirty):  0\n"
     ]
    },
    {
     "name": "stdout",
     "output_type": "stream",
     "text": [
      "Initial Location Condition: {'A': '0', 'B': '0'}\n",
      "Vacuum is placed in Location A\n",
      "Location A is Dirty.\n",
      "Cost for CLEANING A: 1\n",
      "Location A has been Cleaned.\n",
      "Location B is already clean.\n",
      "No action. Current cost: 1\n",
      "GOAL STATE: \n",
      "{'A': '0', 'B': '0'}\n",
      "Performance Measurement (Total Cost): 1\n"
     ]
    }
   ],
   "source": [
    "def vacuum_world():\n",
    "    # initializing goal_state\n",
    "    # 0 indicates Clean and 1 indicates Dirty\n",
    "    goal_state = {'A': '0', 'B': '0'}\n",
    "    cost = 0\n",
    "\n",
    "    # User input\n",
    "    location_input = input(\"Enter Location of Vacuum (A or B): \")\n",
    "    status_input = input(\"Enter status of \" + location_input + \" (0 for Clean, 1 for Dirty): \")\n",
    "    status_input_complement = input(\"Enter status of other room (0 for Clean, 1 for Dirty): \")\n",
    "\n",
    "    print(\"Initial Location Condition: \" + str(goal_state))\n",
    "\n",
    "    if location_input == 'A':\n",
    "        print(\"Vacuum is placed in Location A\")\n",
    "\n",
    "        if status_input == '1':\n",
    "            print(\"Location A is Dirty.\")\n",
    "            goal_state['A'] = '0'\n",
    "            cost += 1  # cost for cleaning\n",
    "            print(\"Cost for CLEANING A: \" + str(cost))\n",
    "            print(\"Location A has been Cleaned.\")\n",
    "        else:\n",
    "            print(\"Location A is already clean.\")\n",
    "\n",
    "        if status_input_complement == '1':\n",
    "            print(\"Location B is Dirty.\")\n",
    "            print(\"Moving RIGHT to the Location B.\")\n",
    "            cost += 1  # cost for moving right\n",
    "            print(\"COST for moving RIGHT: \" + str(cost))\n",
    "            goal_state['B'] = '0'\n",
    "            cost += 1  # cost for cleaning\n",
    "            print(\"COST for SUCK: \" + str(cost))\n",
    "            print(\"Location B has been Cleaned.\")\n",
    "        else:\n",
    "            print(\"Location B is already clean.\")\n",
    "            print(\"No action. Current cost: \" + str(cost))\n",
    "\n",
    "    else:\n",
    "        print(\"Vacuum is placed in Location B\")\n",
    "\n",
    "        if status_input == '1':\n",
    "            print(\"Location B is Dirty.\")\n",
    "            goal_state['B'] = '0'\n",
    "            cost += 1  # cost for cleaning\n",
    "            print(\"COST for CLEANING B: \" + str(cost))\n",
    "            print(\"Location B has been Cleaned.\")\n",
    "        else:\n",
    "            print(\"Location B is already clean.\")\n",
    "\n",
    "        if status_input_complement == '1':\n",
    "            print(\"Location A is Dirty.\")\n",
    "            print(\"Moving LEFT to the Location A.\")\n",
    "            cost += 1  # cost for moving left\n",
    "            print(\"COST for moving LEFT: \" + str(cost))\n",
    "            goal_state['A'] = '0'\n",
    "            cost += 1  # cost for cleaning\n",
    "            print(\"COST for SUCK: \" + str(cost))\n",
    "            print(\"Location A has been Cleaned.\")\n",
    "        else:\n",
    "            print(\"Location A is already clean.\")\n",
    "            print(\"No action. Current cost: \" + str(cost))\n",
    "\n",
    "    # Final output\n",
    "    print(\"GOAL STATE: \")\n",
    "    print(goal_state)\n",
    "    print(\"Performance Measurement (Total Cost): \" + str(cost))\n",
    "\n",
    "\n",
    "# Run the function\n",
    "vacuum_world()\n"
   ]
  },
  {
   "cell_type": "code",
   "execution_count": null,
   "id": "226240ee-b83d-453d-a36e-1e051dc5896a",
   "metadata": {},
   "outputs": [],
   "source": []
  }
 ],
 "metadata": {
  "kernelspec": {
   "display_name": "Python [conda env:base] *",
   "language": "python",
   "name": "conda-base-py"
  },
  "language_info": {
   "codemirror_mode": {
    "name": "ipython",
    "version": 3
   },
   "file_extension": ".py",
   "mimetype": "text/x-python",
   "name": "python",
   "nbconvert_exporter": "python",
   "pygments_lexer": "ipython3",
   "version": "3.12.7"
  }
 },
 "nbformat": 4,
 "nbformat_minor": 5
}
